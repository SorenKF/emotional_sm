{
 "metadata": {
  "language_info": {
   "codemirror_mode": {
    "name": "ipython",
    "version": 3
   },
   "file_extension": ".py",
   "mimetype": "text/x-python",
   "name": "python",
   "nbconvert_exporter": "python",
   "pygments_lexer": "ipython3",
   "version": "3.8.5-final"
  },
  "orig_nbformat": 2,
  "kernelspec": {
   "name": "Python 3.8.5 64-bit ('emsub': conda)",
   "display_name": "Python 3.8.5 64-bit ('emsub': conda)",
   "metadata": {
    "interpreter": {
     "hash": "c8a63e31ffb1a3adb15a5de85a1df3b507cd69b37963f70a13abe50a567902a6"
    }
   }
  }
 },
 "nbformat": 4,
 "nbformat_minor": 2,
 "cells": [
  {
   "source": [
    "### Concate train and test files."
   ],
   "cell_type": "markdown",
   "metadata": {}
  },
  {
   "cell_type": "code",
   "execution_count": 1,
   "metadata": {},
   "outputs": [],
   "source": [
    "import pandas as pd, numpy as np\n",
    "import pickle\n",
    "\n"
   ]
  },
  {
   "cell_type": "code",
   "execution_count": 4,
   "metadata": {},
   "outputs": [],
   "source": [
    "# Combine all TRAC test data. Whoops...\n",
    "\n",
    "\n",
    "trac_fb = pd.read_csv('../Data/TRAC2018_full/converted/trac-test-package/agr_en_fb_test.csv')\n",
    "trac_sm = pd.read_csv('../Data/TRAC2018_full/converted/trac-test-package/agr_en_sm_test.csv')\n",
    "\n",
    "frames = [trac_fb, trac_sm]\n",
    "df_trac_test_combined = pd.concat(frames)\n",
    "\n",
    "\n",
    "df_trac_test_combined.to_csv('../Data/TRAC2018_full/converted/trac-test-package/agr_en_combine_test.csv', index=None)\n"
   ]
  },
  {
   "cell_type": "code",
   "execution_count": 2,
   "metadata": {},
   "outputs": [],
   "source": [
    "def pickle_data(train_file, test_file, type='csv'):\n",
    "    '''Concat and convert VUA data to pickle files for Deepmoji.\n",
    "\n",
    "    Args: \n",
    "        train_file (str): filepath to a training datafile.\n",
    "        test_file (str): filepath to a test_file.\n",
    "    \n",
    "    Optional:\n",
    "        type (str): specify data file format (default is .csv)\n",
    "\n",
    "    '''\n",
    "\n",
    "    # 1. Load the data\n",
    "\n",
    "    cols_to_use = ['text', 'label']\n",
    "    df_train = pd.read_csv(train_file, usecols=cols_to_use)\n",
    "    df_test = pd.read_csv(test_file, usecols=cols_to_use)\n",
    "\n",
    "    # Concat'em\n",
    "    frames = [df_train, df_test]\n",
    "    df_train_and_test = pd.concat(frames)\n",
    "\n",
    "    # Rename columns to deepmoji's format.\n",
    "    df_train_and_test.rename({'text': 'texts', 'label':'info'}, axis=1, inplace=True)\n",
    "    \n",
    "    # Modify info column values 'str' -> {'label':label}\n",
    "    df_train_and_test['info'] = df_train_and_test.apply(lambda x: {'label' : x}, axis=1)\n",
    "    \n",
    "\n",
    "    # Add the extra index columns\n",
    "    extra_index_cols =  ['train_ind', 'test_ind', 'val_ind']\n",
    "    df_train_and_test = df_train_and_test.join(pd.DataFrame(columns=extra_index_cols))\n",
    "    \n",
    "\n",
    "    # 2. Construct dict for pickeling.\n",
    "    # Extract indexes\n",
    "\n",
    "    \n",
    "\n",
    "\n",
    "    # 3. Pickle the dict.\n",
    "    \n",
    "    return df_train_and_test\n",
    "\n",
    "\n"
   ]
  },
  {
   "cell_type": "code",
   "execution_count": 3,
   "metadata": {},
   "outputs": [],
   "source": [
    "# Function call\n",
    "\n",
    "# TRAC\n",
    "test = pickle_data('../Data/TRAC2018_full/converted/english/agr_en_train.csv' , '../Data/TRAC2018_full/converted/trac-test-package/agr_en_combine_test.csv')"
   ]
  },
  {
   "cell_type": "code",
   "execution_count": null,
   "metadata": {},
   "outputs": [],
   "source": [
    "test"
   ]
  },
  {
   "cell_type": "code",
   "execution_count": null,
   "metadata": {},
   "outputs": [],
   "source": []
  },
  {
   "cell_type": "code",
   "execution_count": null,
   "metadata": {},
   "outputs": [],
   "source": []
  }
 ]
}